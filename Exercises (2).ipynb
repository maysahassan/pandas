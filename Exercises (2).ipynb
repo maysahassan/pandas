{
 "cells": [
  {
   "cell_type": "markdown",
   "metadata": {},
   "source": [
    "# Ex2 - Getting and Knowing your Data"
   ]
  },
  {
   "cell_type": "markdown",
   "metadata": {},
   "source": [
    "This time we are going to pull data directly from the internet.\n",
    "Special thanks to: https://github.com/justmarkham for sharing the dataset and materials.\n",
    "\n",
    "### Step 1. Import the necessary libraries"
   ]
  },
  {
   "cell_type": "code",
   "execution_count": 8,
   "metadata": {},
   "outputs": [],
   "source": [
    "import numpy as np\n",
    "import pandas as pd"
   ]
  },
  {
   "cell_type": "markdown",
   "metadata": {},
   "source": [
    "### Step 2. Import the dataset from this [address](https://raw.githubusercontent.com/justmarkham/DAT8/master/data/chipotle.tsv). "
   ]
  },
  {
   "cell_type": "markdown",
   "metadata": {},
   "source": [
    "### Step 3. Assign it to a variable called chipo."
   ]
  },
  {
   "cell_type": "code",
   "execution_count": 92,
   "metadata": {},
   "outputs": [
    {
     "name": "stdout",
     "output_type": "stream",
     "text": [
      "      order_id  quantity                              item_name  \\\n",
      "0            1         1           Chips and Fresh Tomato Salsa   \n",
      "1            1         1                                   Izze   \n",
      "2            1         1                       Nantucket Nectar   \n",
      "3            1         1  Chips and Tomatillo-Green Chili Salsa   \n",
      "4            2         2                           Chicken Bowl   \n",
      "...        ...       ...                                    ...   \n",
      "4617      1833         1                          Steak Burrito   \n",
      "4618      1833         1                          Steak Burrito   \n",
      "4619      1834         1                     Chicken Salad Bowl   \n",
      "4620      1834         1                     Chicken Salad Bowl   \n",
      "4621      1834         1                     Chicken Salad Bowl   \n",
      "\n",
      "                                     choice_description item_price  \n",
      "0                                                   NaN     $2.39   \n",
      "1                                          [Clementine]     $3.39   \n",
      "2                                               [Apple]     $3.39   \n",
      "3                                                   NaN     $2.39   \n",
      "4     [Tomatillo-Red Chili Salsa (Hot), [Black Beans...    $16.98   \n",
      "...                                                 ...        ...  \n",
      "4617  [Fresh Tomato Salsa, [Rice, Black Beans, Sour ...    $11.75   \n",
      "4618  [Fresh Tomato Salsa, [Rice, Sour Cream, Cheese...    $11.75   \n",
      "4619  [Fresh Tomato Salsa, [Fajita Vegetables, Pinto...    $11.25   \n",
      "4620  [Fresh Tomato Salsa, [Fajita Vegetables, Lettu...     $8.75   \n",
      "4621  [Fresh Tomato Salsa, [Fajita Vegetables, Pinto...     $8.75   \n",
      "\n",
      "[4622 rows x 5 columns]\n"
     ]
    }
   ],
   "source": [
    "chipo = pd.read_csv(r'https://raw.githubusercontent.com/justmarkham/DAT8/master/data/chipotle.tsv',sep='\\t')\n",
    "\n",
    "chipo.head()\n",
    "print(chipo)\n"
   ]
  },
  {
   "cell_type": "markdown",
   "metadata": {},
   "source": [
    "### Step 4. See the first 10 entries"
   ]
  },
  {
   "cell_type": "code",
   "execution_count": 93,
   "metadata": {
    "scrolled": false
   },
   "outputs": [
    {
     "name": "stdout",
     "output_type": "stream",
     "text": [
      "   order_id  quantity                              item_name  \\\n",
      "0         1         1           Chips and Fresh Tomato Salsa   \n",
      "1         1         1                                   Izze   \n",
      "2         1         1                       Nantucket Nectar   \n",
      "3         1         1  Chips and Tomatillo-Green Chili Salsa   \n",
      "4         2         2                           Chicken Bowl   \n",
      "5         3         1                           Chicken Bowl   \n",
      "6         3         1                          Side of Chips   \n",
      "7         4         1                          Steak Burrito   \n",
      "8         4         1                       Steak Soft Tacos   \n",
      "9         5         1                          Steak Burrito   \n",
      "\n",
      "                                  choice_description item_price  \n",
      "0                                                NaN     $2.39   \n",
      "1                                       [Clementine]     $3.39   \n",
      "2                                            [Apple]     $3.39   \n",
      "3                                                NaN     $2.39   \n",
      "4  [Tomatillo-Red Chili Salsa (Hot), [Black Beans...    $16.98   \n",
      "5  [Fresh Tomato Salsa (Mild), [Rice, Cheese, Sou...    $10.98   \n",
      "6                                                NaN     $1.69   \n",
      "7  [Tomatillo Red Chili Salsa, [Fajita Vegetables...    $11.75   \n",
      "8  [Tomatillo Green Chili Salsa, [Pinto Beans, Ch...     $9.25   \n",
      "9  [Fresh Tomato Salsa, [Rice, Black Beans, Pinto...     $9.25   \n"
     ]
    }
   ],
   "source": [
    "result = chipo.head(10)\n",
    "print(result)"
   ]
  },
  {
   "cell_type": "markdown",
   "metadata": {},
   "source": [
    "### Step 5. What is the number of observations in the dataset?"
   ]
  },
  {
   "cell_type": "code",
   "execution_count": 94,
   "metadata": {},
   "outputs": [
    {
     "name": "stdout",
     "output_type": "stream",
     "text": [
      "4622\n"
     ]
    }
   ],
   "source": [
    "index = chipo.index\n",
    "observation = len(index)\n",
    "\n",
    "print(observation)\n",
    "\n"
   ]
  },
  {
   "cell_type": "code",
   "execution_count": 71,
   "metadata": {},
   "outputs": [],
   "source": [
    "# Solution 2\n",
    "\n"
   ]
  },
  {
   "cell_type": "markdown",
   "metadata": {},
   "source": [
    "### Step 6. What is the number of columns in the dataset?"
   ]
  },
  {
   "cell_type": "code",
   "execution_count": 95,
   "metadata": {},
   "outputs": [
    {
     "data": {
      "text/plain": [
       "5"
      ]
     },
     "execution_count": 95,
     "metadata": {},
     "output_type": "execute_result"
    }
   ],
   "source": [
    "col_count = chipo.shape[1]\n",
    "col_count"
   ]
  },
  {
   "cell_type": "markdown",
   "metadata": {},
   "source": [
    "### Step 7. Print the name of all the columns."
   ]
  },
  {
   "cell_type": "code",
   "execution_count": 96,
   "metadata": {},
   "outputs": [
    {
     "name": "stdout",
     "output_type": "stream",
     "text": [
      "Index(['order_id', 'quantity', 'item_name', 'choice_description',\n",
      "       'item_price'],\n",
      "      dtype='object')\n"
     ]
    }
   ],
   "source": [
    "print (chipo.columns)"
   ]
  },
  {
   "cell_type": "markdown",
   "metadata": {},
   "source": [
    "### Step 8. How is the dataset indexed?"
   ]
  },
  {
   "cell_type": "code",
   "execution_count": 100,
   "metadata": {},
   "outputs": [
    {
     "data": {
      "text/html": [
       "<div>\n",
       "<style scoped>\n",
       "    .dataframe tbody tr th:only-of-type {\n",
       "        vertical-align: middle;\n",
       "    }\n",
       "\n",
       "    .dataframe tbody tr th {\n",
       "        vertical-align: top;\n",
       "    }\n",
       "\n",
       "    .dataframe thead th {\n",
       "        text-align: right;\n",
       "    }\n",
       "</style>\n",
       "<table border=\"1\" class=\"dataframe\">\n",
       "  <thead>\n",
       "    <tr style=\"text-align: right;\">\n",
       "      <th></th>\n",
       "      <th></th>\n",
       "      <th></th>\n",
       "      <th></th>\n",
       "      <th></th>\n",
       "    </tr>\n",
       "    <tr>\n",
       "      <th>order_id</th>\n",
       "      <th>quantity</th>\n",
       "      <th>item_name</th>\n",
       "      <th>choice_description</th>\n",
       "      <th>item_price</th>\n",
       "    </tr>\n",
       "  </thead>\n",
       "  <tbody>\n",
       "    <tr>\n",
       "      <th rowspan=\"4\" valign=\"top\">1</th>\n",
       "      <th rowspan=\"4\" valign=\"top\">1</th>\n",
       "      <th>Chips and Fresh Tomato Salsa</th>\n",
       "      <th>NaN</th>\n",
       "      <th>$2.39</th>\n",
       "    </tr>\n",
       "    <tr>\n",
       "      <th>Izze</th>\n",
       "      <th>[Clementine]</th>\n",
       "      <th>$3.39</th>\n",
       "    </tr>\n",
       "    <tr>\n",
       "      <th>Nantucket Nectar</th>\n",
       "      <th>[Apple]</th>\n",
       "      <th>$3.39</th>\n",
       "    </tr>\n",
       "    <tr>\n",
       "      <th>Chips and Tomatillo-Green Chili Salsa</th>\n",
       "      <th>NaN</th>\n",
       "      <th>$2.39</th>\n",
       "    </tr>\n",
       "    <tr>\n",
       "      <th>2</th>\n",
       "      <th>2</th>\n",
       "      <th>Chicken Bowl</th>\n",
       "      <th>[Tomatillo-Red Chili Salsa (Hot), [Black Beans, Rice, Cheese, Sour Cream]]</th>\n",
       "      <th>$16.98</th>\n",
       "    </tr>\n",
       "    <tr>\n",
       "      <th>...</th>\n",
       "      <th>...</th>\n",
       "      <th>...</th>\n",
       "      <th>...</th>\n",
       "      <th>...</th>\n",
       "    </tr>\n",
       "    <tr>\n",
       "      <th rowspan=\"2\" valign=\"top\">1833</th>\n",
       "      <th rowspan=\"2\" valign=\"top\">1</th>\n",
       "      <th rowspan=\"2\" valign=\"top\">Steak Burrito</th>\n",
       "      <th>[Fresh Tomato Salsa, [Rice, Black Beans, Sour Cream, Cheese, Lettuce, Guacamole]]</th>\n",
       "      <th>$11.75</th>\n",
       "    </tr>\n",
       "    <tr>\n",
       "      <th>[Fresh Tomato Salsa, [Rice, Sour Cream, Cheese, Lettuce, Guacamole]]</th>\n",
       "      <th>$11.75</th>\n",
       "    </tr>\n",
       "    <tr>\n",
       "      <th rowspan=\"3\" valign=\"top\">1834</th>\n",
       "      <th rowspan=\"3\" valign=\"top\">1</th>\n",
       "      <th rowspan=\"3\" valign=\"top\">Chicken Salad Bowl</th>\n",
       "      <th>[Fresh Tomato Salsa, [Fajita Vegetables, Pinto Beans, Guacamole, Lettuce]]</th>\n",
       "      <th>$11.25</th>\n",
       "    </tr>\n",
       "    <tr>\n",
       "      <th>[Fresh Tomato Salsa, [Fajita Vegetables, Lettuce]]</th>\n",
       "      <th>$8.75</th>\n",
       "    </tr>\n",
       "    <tr>\n",
       "      <th>[Fresh Tomato Salsa, [Fajita Vegetables, Pinto Beans, Lettuce]]</th>\n",
       "      <th>$8.75</th>\n",
       "    </tr>\n",
       "  </tbody>\n",
       "</table>\n",
       "<p>4622 rows × 0 columns</p>\n",
       "</div>"
      ],
      "text/plain": [
       "Empty DataFrame\n",
       "Columns: []\n",
       "Index: [(1, 1, Chips and Fresh Tomato Salsa, nan, $2.39 ), (1, 1, Izze, [Clementine], $3.39 ), (1, 1, Nantucket Nectar, [Apple], $3.39 ), (1, 1, Chips and Tomatillo-Green Chili Salsa, nan, $2.39 ), (2, 2, Chicken Bowl, [Tomatillo-Red Chili Salsa (Hot), [Black Beans, Rice, Cheese, Sour Cream]], $16.98 ), (3, 1, Chicken Bowl, [Fresh Tomato Salsa (Mild), [Rice, Cheese, Sour Cream, Guacamole, Lettuce]], $10.98 ), (3, 1, Side of Chips, nan, $1.69 ), (4, 1, Steak Burrito, [Tomatillo Red Chili Salsa, [Fajita Vegetables, Black Beans, Pinto Beans, Cheese, Sour Cream, Guacamole, Lettuce]], $11.75 ), (4, 1, Steak Soft Tacos, [Tomatillo Green Chili Salsa, [Pinto Beans, Cheese, Sour Cream, Lettuce]], $9.25 ), (5, 1, Steak Burrito, [Fresh Tomato Salsa, [Rice, Black Beans, Pinto Beans, Cheese, Sour Cream, Lettuce]], $9.25 ), (5, 1, Chips and Guacamole, nan, $4.45 ), (6, 1, Chicken Crispy Tacos, [Roasted Chili Corn Salsa, [Fajita Vegetables, Rice, Black Beans, Cheese, Sour Cream]], $8.75 ), (6, 1, Chicken Soft Tacos, [Roasted Chili Corn Salsa, [Rice, Black Beans, Cheese, Sour Cream]], $8.75 ), (7, 1, Chicken Bowl, [Fresh Tomato Salsa, [Fajita Vegetables, Rice, Cheese, Sour Cream, Guacamole]], $11.25 ), (7, 1, Chips and Guacamole, nan, $4.45 ), (8, 1, Chips and Tomatillo-Green Chili Salsa, nan, $2.39 ), (8, 1, Chicken Burrito, [Tomatillo-Green Chili Salsa (Medium), [Pinto Beans, Cheese, Sour Cream]], $8.49 ), (9, 1, Chicken Burrito, [Fresh Tomato Salsa (Mild), [Black Beans, Rice, Cheese, Sour Cream, Lettuce]], $8.49 ), (9, 2, Canned Soda, [Sprite], $2.18 ), (10, 1, Chicken Bowl, [Tomatillo Red Chili Salsa, [Fajita Vegetables, Black Beans, Sour Cream, Cheese, Lettuce]], $8.75 ), (10, 1, Chips and Guacamole, nan, $4.45 ), (11, 1, Barbacoa Burrito, [[Fresh Tomato Salsa (Mild), Tomatillo-Green Chili Salsa (Medium), Tomatillo-Red Chili Salsa (Hot)], [Rice, Cheese, Sour Cream, Lettuce]], $8.99 ), (11, 1, Nantucket Nectar, [Pomegranate Cherry], $3.39 ), (12, 1, Chicken Burrito, [[Tomatillo-Green Chili Salsa (Medium), Tomatillo-Red Chili Salsa (Hot)], [Pinto Beans, Rice, Cheese, Sour Cream, Guacamole, Lettuce]], $10.98 ), (12, 1, Izze, [Grapefruit], $3.39 ), (13, 1, Chips and Fresh Tomato Salsa, nan, $2.39 ), (13, 1, Chicken Bowl, [Roasted Chili Corn Salsa (Medium), [Pinto Beans, Rice, Fajita Veggies, Cheese, Sour Cream, Lettuce]], $8.49 ), (14, 1, Carnitas Burrito, [[Tomatillo-Green Chili Salsa (Medium), Roasted Chili Corn Salsa (Medium)], [Black Beans, Rice, Sour Cream, Lettuce]], $8.99 ), (14, 1, Canned Soda, [Dr. Pepper], $1.09 ), (15, 1, Chicken Burrito, [Tomatillo-Green Chili Salsa (Medium), [Pinto Beans, Rice, Cheese, Sour Cream]], $8.49 ), (15, 1, Chips and Tomatillo-Green Chili Salsa, nan, $2.39 ), (16, 1, Steak Burrito, [[Roasted Chili Corn Salsa (Medium), Fresh Tomato Salsa (Mild)], [Rice, Black Beans, Sour Cream]], $8.99 ), (16, 1, Side of Chips, nan, $1.69 ), (17, 1, Carnitas Bowl, [Tomatillo-Red Chili Salsa (Hot), [Black Beans, Rice, Fajita Veggies, Cheese, Sour Cream, Lettuce]], $8.99 ), (17, 1, Bottled Water, nan, $1.09 ), (18, 1, Chicken Soft Tacos, [Roasted Chili Corn Salsa, Rice], $8.75 ), (18, 1, Chicken Soft Tacos, [Roasted Chili Corn Salsa, [Cheese, Lettuce]], $8.75 ), (18, 1, Chips and Guacamole, nan, $4.45 ), (18, 1, Chips and Tomatillo Green Chili Salsa, nan, $2.95 ), (19, 1, Barbacoa Bowl, [Roasted Chili Corn Salsa, [Fajita Vegetables, Rice, Black Beans, Cheese, Sour Cream, Guacamole, Lettuce]], $11.75 ), (19, 1, Chips, nan, $2.15 ), (20, 1, Chips and Guacamole, nan, $4.45 ), (20, 1, Chicken Bowl, [Roasted Chili Corn Salsa, [Rice, Black Beans, Cheese, Sour Cream, Guacamole, Lettuce]], $11.25 ), (20, 1, Steak Burrito, [Fresh Tomato Salsa, [Rice, Pinto Beans, Cheese, Sour Cream, Guacamole, Lettuce]], $11.75 ), (20, 1, Chicken Salad Bowl, [Fresh Tomato Salsa, [Fajita Vegetables, Pinto Beans, Lettuce]], $8.75 ), (21, 1, Chicken Burrito, [Tomatillo-Red Chili Salsa (Hot), [Black Beans, Fajita Veggies, Cheese, Sour Cream, Guacamole, Lettuce]], $10.98 ), (21, 1, Steak Burrito, [Tomatillo-Red Chili Salsa (Hot), [Rice, Fajita Veggies, Cheese]], $8.99 ), (21, 1, Izze, [Blackberry], $3.39 ), (22, 1, Steak Burrito, [[Fresh Tomato Salsa (Mild), Roasted Chili Corn Salsa (Medium), Tomatillo-Red Chili Salsa (Hot)], [Black Beans, Rice, Sour Cream]], $8.99 ), (22, 1, Chips and Guacamole, nan, $3.99 ), (23, 1, Steak Burrito, [Roasted Chili Corn Salsa (Medium), [Rice, Fajita Veggies, Cheese, Sour Cream, Lettuce]], $8.99 ), (23, 2, Canned Soda, [Mountain Dew], $2.18 ), (24, 1, Chicken Burrito, [Roasted Chili Corn Salsa (Medium), [Black Beans, Rice, Fajita Veggies, Cheese, Sour Cream, Guacamole, Lettuce]], $10.98 ), (24, 1, Canned Soda, [Sprite], $1.09 ), (25, 1, Steak Bowl, [Fresh Tomato Salsa (Mild), [Black Beans, Rice, Fajita Veggies, Cheese, Sour Cream]], $8.99 ), (25, 1, Chips and Fresh Tomato Salsa, nan, $2.39 ), (26, 1, Barbacoa Soft Tacos, [Fresh Tomato Salsa, [Fajita Vegetables, Black Beans, Lettuce]], $9.25 ), (26, 1, Veggie Burrito, [Tomatillo Red Chili Salsa, [Fajita Vegetables, Rice, Black Beans, Cheese, Sour Cream, Guacamole, Lettuce]], $11.25 ), (27, 1, Barbacoa Bowl, [Roasted Chili Corn Salsa, [Fajita Vegetables, Rice, Black Beans, Cheese, Sour Cream, Guacamole, Lettuce]], $11.75 ), (27, 1, Chips, nan, $2.15 ), (28, 1, Chips and Guacamole, nan, $4.45 ), (28, 1, Steak Soft Tacos, [Fresh Tomato Salsa, Cheese], $9.25 ), (28, 1, Veggie Bowl, [Fresh Tomato Salsa, [Fajita Vegetables, Rice, Black Beans, Cheese, Sour Cream, Guacamole, Lettuce]], $11.25 ), (28, 1, Chicken Burrito, [Fresh Tomato Salsa, [Rice, Black Beans, Cheese]], $8.75 ), (29, 1, Steak Burrito, [Tomatillo-Red Chili Salsa (Hot), [Black Beans, Rice, Fajita Veggies, Cheese, Sour Cream, Lettuce]], $8.99 ), (29, 1, Steak Soft Tacos, [Tomatillo-Red Chili Salsa (Hot), [Rice, Cheese, Sour Cream, Lettuce]], $8.99 ), (30, 1, Izze, [Blackberry], $3.39 ), (30, 1, Steak Burrito, [Tomatillo-Red Chili Salsa (Hot), [Rice, Cheese]], $8.99 ), (30, 1, Chicken Burrito, [Tomatillo-Red Chili Salsa (Hot), [Black Beans, Fajita Veggies, Cheese, Sour Cream, Guacamole, Lettuce]], $10.98 ), (31, 1, Steak Burrito, [Roasted Chili Corn Salsa (Medium), [Rice, Black Beans, Sour Cream]], $8.99 ), (31, 1, Side of Chips, nan, $1.69 ), (32, 1, Steak Burrito, [Tomatillo-Red Chili Salsa (Hot), [Black Beans, Rice, Cheese, Sour Cream, Lettuce]], $8.99 ), (32, 1, Chips and Guacamole, nan, $3.99 ), (33, 1, Chicken Burrito, [Tomatillo Red Chili Salsa, [Rice, Black Beans, Cheese, Sour Cream]], $8.75 ), (33, 1, Chips and Guacamole, nan, $4.45 ), (34, 1, Chicken Soft Tacos, [Tomatillo Red Chili Salsa, [Rice, Cheese, Sour Cream, Lettuce]], $8.75 ), (34, 1, Chicken Bowl, [Fresh Tomato Salsa, [Rice, Black Beans, Pinto Beans, Cheese, Lettuce]], $8.75 ), (34, 1, Chips, nan, $2.15 ), (34, 1, Chicken Bowl, [Fresh Tomato Salsa, [Rice, Black Beans, Cheese, Sour Cream, Lettuce]], $8.75 ), (35, 1, Chicken Soft Tacos, [Roasted Chili Corn Salsa, [Rice, Cheese, Lettuce, Guacamole]], $11.25 ), (35, 1, Chips, nan, $2.15 ), (36, 1, Barbacoa Burrito, [Fresh Tomato Salsa, [Rice, Pinto Beans, Cheese, Sour Cream, Lettuce]], $9.25 ), (36, 1, Chicken Burrito, [Fresh Tomato Salsa, [Rice, Black Beans, Cheese, Sour Cream, Lettuce]], $8.75 ), (37, 1, Chicken Burrito, [Tomatillo Green Chili Salsa, [Rice, Black Beans, Sour Cream, Cheese]], $8.75 ), (37, 1, Steak Soft Tacos, [Tomatillo Red Chili Salsa], $9.25 ), (38, 1, Veggie Bowl, [Tomatillo-Red Chili Salsa (Hot), [Pinto Beans, Black Beans, Rice, Fajita Veggies, Lettuce]], $8.49 ), (38, 1, Steak Bowl, [Tomatillo-Red Chili Salsa (Hot), [Pinto Beans, Rice, Fajita Veggies, Cheese, Lettuce]], $8.99 ), (38, 1, Bottled Water, nan, $1.09 ), (39, 1, Carnitas Burrito, [Fresh Tomato Salsa, [Rice, Pinto Beans, Sour Cream, Cheese]], $9.25 ), (39, 1, Chips and Fresh Tomato Salsa, nan, $2.95 ), (40, 1, Steak Bowl, [Fresh Tomato Salsa, [Rice, Black Beans, Cheese, Sour Cream, Guacamole]], $11.75 ), (40, 1, Steak Bowl, [Fresh Tomato Salsa, [Fajita Vegetables, Cheese, Sour Cream, Guacamole]], $11.75 ), (40, 1, Steak Crispy Tacos, [Fresh Tomato Salsa, Sour Cream], $9.25 ), (41, 1, Carnitas Burrito, [Roasted Chili Corn Salsa, [Sour Cream, Guacamole]], $11.75 ), (41, 1, Chips and Guacamole, nan, $4.45 ), (42, 1, Barbacoa Bowl, [Fresh Tomato Salsa, [Fajita Vegetables, Rice, Cheese, Sour Cream]], $9.25 ), (42, 1, Chips and Guacamole, nan, $4.45 ), (43, 1, Carnitas Bowl, [Fresh Tomato Salsa, [Fajita Vegetables, Rice, Black Beans, Cheese, Guacamole, Lettuce]], $11.75 ), (43, 1, Chicken Burrito, [Tomatillo Red Chili Salsa, [Rice, Black Beans, Cheese]], $8.75 ), (44, 1, Chicken Bowl, [Tomatillo Red Chili Salsa, [Rice, Fajita Vegetables, Sour Cream, Lettuce]], $8.75 ), ...]\n",
       "\n",
       "[4622 rows x 0 columns]"
      ]
     },
     "execution_count": 100,
     "metadata": {},
     "output_type": "execute_result"
    }
   ],
   "source": [
    "chipo.set_index(['order_id', 'quantity', 'item_name', 'choice_description','item_price'])"
   ]
  },
  {
   "cell_type": "markdown",
   "metadata": {},
   "source": [
    "### Step 9. Which was the most-ordered item? "
   ]
  },
  {
   "cell_type": "code",
   "execution_count": 111,
   "metadata": {},
   "outputs": [
    {
     "name": "stdout",
     "output_type": "stream",
     "text": [
      "Printing the most ordered item of chipo\n",
      "0    1\n",
      "dtype: int64\n"
     ]
    }
   ],
   "source": [
    "\n",
    "print(\"Printing the most ordered item of chipo\")\n",
    "print(chipo[('quantity')].mode())"
   ]
  },
  {
   "cell_type": "markdown",
   "metadata": {},
   "source": [
    "### Step 10. For the most-ordered item, how many items were ordered?"
   ]
  },
  {
   "cell_type": "code",
   "execution_count": 110,
   "metadata": {},
   "outputs": [
    {
     "name": "stdout",
     "output_type": "stream",
     "text": [
      "1     4355\n",
      "2      224\n",
      "3       28\n",
      "4       10\n",
      "5        1\n",
      "15       1\n",
      "7        1\n",
      "8        1\n",
      "10       1\n",
      "Name: quantity, dtype: int64\n"
     ]
    }
   ],
   "source": [
    "\n",
    "print(chipo[('quantity')].value_counts())\n"
   ]
  },
  {
   "cell_type": "markdown",
   "metadata": {},
   "source": [
    "### Step 11. What was the most ordered item in the choice_description column?"
   ]
  },
  {
   "cell_type": "code",
   "execution_count": 112,
   "metadata": {},
   "outputs": [
    {
     "name": "stdout",
     "output_type": "stream",
     "text": [
      "[Diet Coke]                                                                                                                                      134\n",
      "[Coke]                                                                                                                                           123\n",
      "[Sprite]                                                                                                                                          77\n",
      "[Fresh Tomato Salsa, [Rice, Black Beans, Cheese, Sour Cream, Lettuce]]                                                                            42\n",
      "[Fresh Tomato Salsa, [Rice, Black Beans, Cheese, Sour Cream, Guacamole, Lettuce]]                                                                 40\n",
      "                                                                                                                                                ... \n",
      "[Fresh Tomato Salsa (Mild), [Pinto Beans, Black Beans, Rice, Cheese, Sour Cream, Lettuce]]                                                         1\n",
      "[[Fresh Tomato Salsa (Mild), Roasted Chili Corn Salsa (Medium), Tomatillo-Red Chili Salsa (Hot)], [Pinto Beans, Cheese, Sour Cream, Lettuce]]      1\n",
      "[Fresh Tomato (Mild), [Guacamole, Rice, Black Beans]]                                                                                              1\n",
      "[[Tomatillo-Green Chili Salsa (Medium), Tomatillo-Red Chili Salsa (Hot)], [Black Beans, Rice, Cheese, Lettuce]]                                    1\n",
      "[Tomatillo Green Chili Salsa, [Rice, Fajita Vegetables, Black Beans, Guacamole]]                                                                   1\n",
      "Name: choice_description, Length: 1043, dtype: int64\n"
     ]
    }
   ],
   "source": [
    "print(chipo[('choice_description')].value_counts())"
   ]
  },
  {
   "cell_type": "markdown",
   "metadata": {},
   "source": [
    "### Step 12. How many items were orderd in total?"
   ]
  },
  {
   "cell_type": "code",
   "execution_count": 123,
   "metadata": {},
   "outputs": [
    {
     "name": "stdout",
     "output_type": "stream",
     "text": [
      "4622\n"
     ]
    }
   ],
   "source": [
    "items_order = chipo['order_id'].count()\n",
    "print(items_order)"
   ]
  },
  {
   "cell_type": "markdown",
   "metadata": {},
   "source": [
    "### Step 13. Turn the item price into a float"
   ]
  },
  {
   "cell_type": "markdown",
   "metadata": {},
   "source": [
    "#### Step 13.a. Check the item price type"
   ]
  },
  {
   "cell_type": "code",
   "execution_count": 125,
   "metadata": {},
   "outputs": [
    {
     "name": "stdout",
     "output_type": "stream",
     "text": [
      "object\n"
     ]
    }
   ],
   "source": [
    "x = chipo['item_price'].dtypes\n",
    "print(x)"
   ]
  },
  {
   "cell_type": "markdown",
   "metadata": {},
   "source": [
    "#### Step 13.b. Create a lambda function and change the type of item price"
   ]
  },
  {
   "cell_type": "code",
   "execution_count": null,
   "metadata": {
    "collapsed": true
   },
   "outputs": [],
   "source": []
  },
  {
   "cell_type": "markdown",
   "metadata": {},
   "source": [
    "#### Step 13.c. Check the item price type"
   ]
  },
  {
   "cell_type": "code",
   "execution_count": null,
   "metadata": {},
   "outputs": [],
   "source": []
  },
  {
   "cell_type": "markdown",
   "metadata": {},
   "source": [
    "### Step 14. How much was the revenue for the period in the dataset?"
   ]
  },
  {
   "cell_type": "code",
   "execution_count": null,
   "metadata": {},
   "outputs": [],
   "source": []
  },
  {
   "cell_type": "markdown",
   "metadata": {},
   "source": [
    "### Step 15. How many orders were made in the period?"
   ]
  },
  {
   "cell_type": "code",
   "execution_count": null,
   "metadata": {},
   "outputs": [],
   "source": []
  },
  {
   "cell_type": "markdown",
   "metadata": {},
   "source": [
    "### Step 16. What is the average revenue amount per order?"
   ]
  },
  {
   "cell_type": "code",
   "execution_count": 3,
   "metadata": {},
   "outputs": [],
   "source": [
    "# Solution 1\n",
    "\n"
   ]
  },
  {
   "cell_type": "code",
   "execution_count": 4,
   "metadata": {},
   "outputs": [],
   "source": [
    "# Solution 2\n",
    "\n"
   ]
  },
  {
   "cell_type": "markdown",
   "metadata": {},
   "source": [
    "### Step 17. How many different items are sold?"
   ]
  },
  {
   "cell_type": "code",
   "execution_count": null,
   "metadata": {},
   "outputs": [],
   "source": []
  }
 ],
 "metadata": {
  "anaconda-cloud": {},
  "kernelspec": {
   "display_name": "Python 3 (ipykernel)",
   "language": "python",
   "name": "python3"
  },
  "language_info": {
   "codemirror_mode": {
    "name": "ipython",
    "version": 3
   },
   "file_extension": ".py",
   "mimetype": "text/x-python",
   "name": "python",
   "nbconvert_exporter": "python",
   "pygments_lexer": "ipython3",
   "version": "3.9.7"
  }
 },
 "nbformat": 4,
 "nbformat_minor": 1
}
