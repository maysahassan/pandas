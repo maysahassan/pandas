{
 "cells": [
  {
   "cell_type": "markdown",
   "metadata": {},
   "source": [
    "# Ex2 - Getting and Knowing your Data"
   ]
  },
  {
   "cell_type": "markdown",
   "metadata": {},
   "source": [
    "This time we are going to pull data directly from the internet.\n",
    "Special thanks to: https://github.com/justmarkham for sharing the dataset and materials.\n",
    "\n",
    "### Step 1. Import the necessary libraries"
   ]
  },
  {
   "cell_type": "code",
   "execution_count": 8,
   "metadata": {},
   "outputs": [],
   "source": [
    "import numpy as np\n",
    "import pandas as pd"
   ]
  },
  {
   "cell_type": "markdown",
   "metadata": {},
   "source": [
    "### Step 2. Import the dataset from this [address](https://raw.githubusercontent.com/justmarkham/DAT8/master/data/chipotle.tsv). "
   ]
  },
  {
   "cell_type": "markdown",
   "metadata": {},
   "source": [
    "### Step 3. Assign it to a variable called chipo."
   ]
  },
  {
   "cell_type": "code",
   "execution_count": 14,
   "metadata": {},
   "outputs": [
    {
     "name": "stdout",
     "output_type": "stream",
     "text": [
      "     order_id\\tquantity\\titem_name\\tchoice_description\\titem_price\n",
      "0      1\\t1\\tChips and Fresh Tomato Salsa\\tNULL\\t$2.39            \n",
      "1                      1\\t1\\tIzze\\t[Clementine]\\t$3.39            \n",
      "2               1\\t1\\tNantucket Nectar\\t[Apple]\\t$3.39            \n",
      "3     1\\t1\\tChips and Tomatillo-Green Chili Salsa\\tN...           \n",
      "4     2\\t2\\tChicken Bowl\\t[Tomatillo-Red Chili Salsa...           \n",
      "...                                                 ...           \n",
      "4617  1833\\t1\\tSteak Burrito\\t[Fresh Tomato Salsa, [...           \n",
      "4618  1833\\t1\\tSteak Burrito\\t[Fresh Tomato Salsa, [...           \n",
      "4619  1834\\t1\\tChicken Salad Bowl\\t[Fresh Tomato Sal...           \n",
      "4620  1834\\t1\\tChicken Salad Bowl\\t[Fresh Tomato Sal...           \n",
      "4621  1834\\t1\\tChicken Salad Bowl\\t[Fresh Tomato Sal...           \n",
      "\n",
      "[4622 rows x 1 columns]\n"
     ]
    }
   ],
   "source": [
    "chipo = pd.read_csv(r'https://raw.githubusercontent.com/justmarkham/DAT8/master/data/chipotle.tsv',sep='/')\n",
    "\n",
    "chipo.head()\n",
    "print(chipo)\n"
   ]
  },
  {
   "cell_type": "markdown",
   "metadata": {},
   "source": [
    "### Step 4. See the first 10 entries"
   ]
  },
  {
   "cell_type": "code",
   "execution_count": null,
   "metadata": {
    "scrolled": false
   },
   "outputs": [],
   "source": [
    "result = chipo.head(10)\n",
    "print(result)"
   ]
  },
  {
   "cell_type": "markdown",
   "metadata": {},
   "source": [
    "### Step 5. What is the number of observations in the dataset?"
   ]
  },
  {
   "cell_type": "code",
   "execution_count": 15,
   "metadata": {},
   "outputs": [],
   "source": [
    "index = chipo.index\n",
    "observation = len(index)\n",
    "\n"
   ]
  },
  {
   "cell_type": "code",
   "execution_count": 2,
   "metadata": {},
   "outputs": [],
   "source": [
    "# Solution 2\n",
    "\n"
   ]
  },
  {
   "cell_type": "markdown",
   "metadata": {},
   "source": [
    "### Step 6. What is the number of columns in the dataset?"
   ]
  },
  {
   "cell_type": "code",
   "execution_count": 16,
   "metadata": {},
   "outputs": [
    {
     "data": {
      "text/plain": [
       "1"
      ]
     },
     "execution_count": 16,
     "metadata": {},
     "output_type": "execute_result"
    }
   ],
   "source": [
    "col_count = chipo.shape[1]\n",
    "col_count"
   ]
  },
  {
   "cell_type": "markdown",
   "metadata": {},
   "source": [
    "### Step 7. Print the name of all the columns."
   ]
  },
  {
   "cell_type": "code",
   "execution_count": 18,
   "metadata": {},
   "outputs": [
    {
     "name": "stdout",
     "output_type": "stream",
     "text": [
      "Index(['order_id\\tquantity\\titem_name\\tchoice_description\\titem_price'], dtype='object')\n"
     ]
    }
   ],
   "source": [
    "print (chipo.columns)"
   ]
  },
  {
   "cell_type": "markdown",
   "metadata": {},
   "source": [
    "### Step 8. How is the dataset indexed?"
   ]
  },
  {
   "cell_type": "code",
   "execution_count": 26,
   "metadata": {},
   "outputs": [
    {
     "data": {
      "text/html": [
       "<div>\n",
       "<style scoped>\n",
       "    .dataframe tbody tr th:only-of-type {\n",
       "        vertical-align: middle;\n",
       "    }\n",
       "\n",
       "    .dataframe tbody tr th {\n",
       "        vertical-align: top;\n",
       "    }\n",
       "\n",
       "    .dataframe thead th {\n",
       "        text-align: right;\n",
       "    }\n",
       "</style>\n",
       "<table border=\"1\" class=\"dataframe\">\n",
       "  <thead>\n",
       "    <tr style=\"text-align: right;\">\n",
       "      <th></th>\n",
       "    </tr>\n",
       "    <tr>\n",
       "      <th>order_id\tquantity\titem_name\tchoice_description\titem_price</th>\n",
       "    </tr>\n",
       "  </thead>\n",
       "  <tbody>\n",
       "    <tr>\n",
       "      <th>1\\t1\\tChips and Fresh Tomato Salsa\\tNULL\\t$2.39</th>\n",
       "    </tr>\n",
       "    <tr>\n",
       "      <th>1\\t1\\tIzze\\t[Clementine]\\t$3.39</th>\n",
       "    </tr>\n",
       "    <tr>\n",
       "      <th>1\\t1\\tNantucket Nectar\\t[Apple]\\t$3.39</th>\n",
       "    </tr>\n",
       "    <tr>\n",
       "      <th>1\\t1\\tChips and Tomatillo-Green Chili Salsa\\tNULL\\t$2.39</th>\n",
       "    </tr>\n",
       "    <tr>\n",
       "      <th>2\\t2\\tChicken Bowl\\t[Tomatillo-Red Chili Salsa (Hot), [Black Beans, Rice, Cheese, Sour Cream]]\\t$16.98</th>\n",
       "    </tr>\n",
       "    <tr>\n",
       "      <th>...</th>\n",
       "    </tr>\n",
       "    <tr>\n",
       "      <th>1833\\t1\\tSteak Burrito\\t[Fresh Tomato Salsa, [Rice, Black Beans, Sour Cream, Cheese, Lettuce, Guacamole]]\\t$11.75</th>\n",
       "    </tr>\n",
       "    <tr>\n",
       "      <th>1833\\t1\\tSteak Burrito\\t[Fresh Tomato Salsa, [Rice, Sour Cream, Cheese, Lettuce, Guacamole]]\\t$11.75</th>\n",
       "    </tr>\n",
       "    <tr>\n",
       "      <th>1834\\t1\\tChicken Salad Bowl\\t[Fresh Tomato Salsa, [Fajita Vegetables, Pinto Beans, Guacamole, Lettuce]]\\t$11.25</th>\n",
       "    </tr>\n",
       "    <tr>\n",
       "      <th>1834\\t1\\tChicken Salad Bowl\\t[Fresh Tomato Salsa, [Fajita Vegetables, Lettuce]]\\t$8.75</th>\n",
       "    </tr>\n",
       "    <tr>\n",
       "      <th>1834\\t1\\tChicken Salad Bowl\\t[Fresh Tomato Salsa, [Fajita Vegetables, Pinto Beans, Lettuce]]\\t$8.75</th>\n",
       "    </tr>\n",
       "  </tbody>\n",
       "</table>\n",
       "<p>4622 rows × 0 columns</p>\n",
       "</div>"
      ],
      "text/plain": [
       "Empty DataFrame\n",
       "Columns: []\n",
       "Index: [1\t1\tChips and Fresh Tomato Salsa\tNULL\t$2.39 , 1\t1\tIzze\t[Clementine]\t$3.39 , 1\t1\tNantucket Nectar\t[Apple]\t$3.39 , 1\t1\tChips and Tomatillo-Green Chili Salsa\tNULL\t$2.39 , 2\t2\tChicken Bowl\t[Tomatillo-Red Chili Salsa (Hot), [Black Beans, Rice, Cheese, Sour Cream]]\t$16.98 , 3\t1\tChicken Bowl\t[Fresh Tomato Salsa (Mild), [Rice, Cheese, Sour Cream, Guacamole, Lettuce]]\t$10.98 , 3\t1\tSide of Chips\tNULL\t$1.69 , 4\t1\tSteak Burrito\t[Tomatillo Red Chili Salsa, [Fajita Vegetables, Black Beans, Pinto Beans, Cheese, Sour Cream, Guacamole, Lettuce]]\t$11.75 , 4\t1\tSteak Soft Tacos\t[Tomatillo Green Chili Salsa, [Pinto Beans, Cheese, Sour Cream, Lettuce]]\t$9.25 , 5\t1\tSteak Burrito\t[Fresh Tomato Salsa, [Rice, Black Beans, Pinto Beans, Cheese, Sour Cream, Lettuce]]\t$9.25 , 5\t1\tChips and Guacamole\tNULL\t$4.45 , 6\t1\tChicken Crispy Tacos\t[Roasted Chili Corn Salsa, [Fajita Vegetables, Rice, Black Beans, Cheese, Sour Cream]]\t$8.75 , 6\t1\tChicken Soft Tacos\t[Roasted Chili Corn Salsa, [Rice, Black Beans, Cheese, Sour Cream]]\t$8.75 , 7\t1\tChicken Bowl\t[Fresh Tomato Salsa, [Fajita Vegetables, Rice, Cheese, Sour Cream, Guacamole]]\t$11.25 , 7\t1\tChips and Guacamole\tNULL\t$4.45 , 8\t1\tChips and Tomatillo-Green Chili Salsa\tNULL\t$2.39 , 8\t1\tChicken Burrito\t[Tomatillo-Green Chili Salsa (Medium), [Pinto Beans, Cheese, Sour Cream]]\t$8.49 , 9\t1\tChicken Burrito\t[Fresh Tomato Salsa (Mild), [Black Beans, Rice, Cheese, Sour Cream, Lettuce]]\t$8.49 , 9\t2\tCanned Soda\t[Sprite]\t$2.18 , 10\t1\tChicken Bowl\t[Tomatillo Red Chili Salsa, [Fajita Vegetables, Black Beans, Sour Cream, Cheese, Lettuce]]\t$8.75 , 10\t1\tChips and Guacamole\tNULL\t$4.45 , 11\t1\tBarbacoa Burrito\t[[Fresh Tomato Salsa (Mild), Tomatillo-Green Chili Salsa (Medium), Tomatillo-Red Chili Salsa (Hot)], [Rice, Cheese, Sour Cream, Lettuce]]\t$8.99 , 11\t1\tNantucket Nectar\t[Pomegranate Cherry]\t$3.39 , 12\t1\tChicken Burrito\t[[Tomatillo-Green Chili Salsa (Medium), Tomatillo-Red Chili Salsa (Hot)], [Pinto Beans, Rice, Cheese, Sour Cream, Guacamole, Lettuce]]\t$10.98 , 12\t1\tIzze\t[Grapefruit]\t$3.39 , 13\t1\tChips and Fresh Tomato Salsa\tNULL\t$2.39 , 13\t1\tChicken Bowl\t[Roasted Chili Corn Salsa (Medium), [Pinto Beans, Rice, Fajita Veggies, Cheese, Sour Cream, Lettuce]]\t$8.49 , 14\t1\tCarnitas Burrito\t[[Tomatillo-Green Chili Salsa (Medium), Roasted Chili Corn Salsa (Medium)], [Black Beans, Rice, Sour Cream, Lettuce]]\t$8.99 , 14\t1\tCanned Soda\t[Dr. Pepper]\t$1.09 , 15\t1\tChicken Burrito\t[Tomatillo-Green Chili Salsa (Medium), [Pinto Beans, Rice, Cheese, Sour Cream]]\t$8.49 , 15\t1\tChips and Tomatillo-Green Chili Salsa\tNULL\t$2.39 , 16\t1\tSteak Burrito\t[[Roasted Chili Corn Salsa (Medium), Fresh Tomato Salsa (Mild)], [Rice, Black Beans, Sour Cream]]\t$8.99 , 16\t1\tSide of Chips\tNULL\t$1.69 , 17\t1\tCarnitas Bowl\t[Tomatillo-Red Chili Salsa (Hot), [Black Beans, Rice, Fajita Veggies, Cheese, Sour Cream, Lettuce]]\t$8.99 , 17\t1\tBottled Water\tNULL\t$1.09 , 18\t1\tChicken Soft Tacos\t[Roasted Chili Corn Salsa, Rice]\t$8.75 , 18\t1\tChicken Soft Tacos\t[Roasted Chili Corn Salsa, [Cheese, Lettuce]]\t$8.75 , 18\t1\tChips and Guacamole\tNULL\t$4.45 , 18\t1\tChips and Tomatillo Green Chili Salsa\tNULL\t$2.95 , 19\t1\tBarbacoa Bowl\t[Roasted Chili Corn Salsa, [Fajita Vegetables, Rice, Black Beans, Cheese, Sour Cream, Guacamole, Lettuce]]\t$11.75 , 19\t1\tChips\tNULL\t$2.15 , 20\t1\tChips and Guacamole\tNULL\t$4.45 , 20\t1\tChicken Bowl\t[Roasted Chili Corn Salsa, [Rice, Black Beans, Cheese, Sour Cream, Guacamole, Lettuce]]\t$11.25 , 20\t1\tSteak Burrito\t[Fresh Tomato Salsa, [Rice, Pinto Beans, Cheese, Sour Cream, Guacamole, Lettuce]]\t$11.75 , 20\t1\tChicken Salad Bowl\t[Fresh Tomato Salsa, [Fajita Vegetables, Pinto Beans, Lettuce]]\t$8.75 , 21\t1\tChicken Burrito\t[Tomatillo-Red Chili Salsa (Hot), [Black Beans, Fajita Veggies, Cheese, Sour Cream, Guacamole, Lettuce]]\t$10.98 , 21\t1\tSteak Burrito\t[Tomatillo-Red Chili Salsa (Hot), [Rice, Fajita Veggies, Cheese]]\t$8.99 , 21\t1\tIzze\t[Blackberry]\t$3.39 , 22\t1\tSteak Burrito\t[[Fresh Tomato Salsa (Mild), Roasted Chili Corn Salsa (Medium), Tomatillo-Red Chili Salsa (Hot)], [Black Beans, Rice, Sour Cream]]\t$8.99 , 22\t1\tChips and Guacamole\tNULL\t$3.99 , 23\t1\tSteak Burrito\t[Roasted Chili Corn Salsa (Medium), [Rice, Fajita Veggies, Cheese, Sour Cream, Lettuce]]\t$8.99 , 23\t2\tCanned Soda\t[Mountain Dew]\t$2.18 , 24\t1\tChicken Burrito\t[Roasted Chili Corn Salsa (Medium), [Black Beans, Rice, Fajita Veggies, Cheese, Sour Cream, Guacamole, Lettuce]]\t$10.98 , 24\t1\tCanned Soda\t[Sprite]\t$1.09 , 25\t1\tSteak Bowl\t[Fresh Tomato Salsa (Mild), [Black Beans, Rice, Fajita Veggies, Cheese, Sour Cream]]\t$8.99 , 25\t1\tChips and Fresh Tomato Salsa\tNULL\t$2.39 , 26\t1\tBarbacoa Soft Tacos\t[Fresh Tomato Salsa, [Fajita Vegetables, Black Beans, Lettuce]]\t$9.25 , 26\t1\tVeggie Burrito\t[Tomatillo Red Chili Salsa, [Fajita Vegetables, Rice, Black Beans, Cheese, Sour Cream, Guacamole, Lettuce]]\t$11.25 , 27\t1\tBarbacoa Bowl\t[Roasted Chili Corn Salsa, [Fajita Vegetables, Rice, Black Beans, Cheese, Sour Cream, Guacamole, Lettuce]]\t$11.75 , 27\t1\tChips\tNULL\t$2.15 , 28\t1\tChips and Guacamole\tNULL\t$4.45 , 28\t1\tSteak Soft Tacos\t[Fresh Tomato Salsa, Cheese]\t$9.25 , 28\t1\tVeggie Bowl\t[Fresh Tomato Salsa, [Fajita Vegetables, Rice, Black Beans, Cheese, Sour Cream, Guacamole, Lettuce]]\t$11.25 , 28\t1\tChicken Burrito\t[Fresh Tomato Salsa, [Rice, Black Beans, Cheese]]\t$8.75 , 29\t1\tSteak Burrito\t[Tomatillo-Red Chili Salsa (Hot), [Black Beans, Rice, Fajita Veggies, Cheese, Sour Cream, Lettuce]]\t$8.99 , 29\t1\tSteak Soft Tacos\t[Tomatillo-Red Chili Salsa (Hot), [Rice, Cheese, Sour Cream, Lettuce]]\t$8.99 , 30\t1\tIzze\t[Blackberry]\t$3.39 , 30\t1\tSteak Burrito\t[Tomatillo-Red Chili Salsa (Hot), [Rice, Cheese]]\t$8.99 , 30\t1\tChicken Burrito\t[Tomatillo-Red Chili Salsa (Hot), [Black Beans, Fajita Veggies, Cheese, Sour Cream, Guacamole, Lettuce]]\t$10.98 , 31\t1\tSteak Burrito\t[Roasted Chili Corn Salsa (Medium), [Rice, Black Beans, Sour Cream]]\t$8.99 , 31\t1\tSide of Chips\tNULL\t$1.69 , 32\t1\tSteak Burrito\t[Tomatillo-Red Chili Salsa (Hot), [Black Beans, Rice, Cheese, Sour Cream, Lettuce]]\t$8.99 , 32\t1\tChips and Guacamole\tNULL\t$3.99 , 33\t1\tChicken Burrito\t[Tomatillo Red Chili Salsa, [Rice, Black Beans, Cheese, Sour Cream]]\t$8.75 , 33\t1\tChips and Guacamole\tNULL\t$4.45 , 34\t1\tChicken Soft Tacos\t[Tomatillo Red Chili Salsa, [Rice, Cheese, Sour Cream, Lettuce]]\t$8.75 , 34\t1\tChicken Bowl\t[Fresh Tomato Salsa, [Rice, Black Beans, Pinto Beans, Cheese, Lettuce]]\t$8.75 , 34\t1\tChips\tNULL\t$2.15 , 34\t1\tChicken Bowl\t[Fresh Tomato Salsa, [Rice, Black Beans, Cheese, Sour Cream, Lettuce]]\t$8.75 , 35\t1\tChicken Soft Tacos\t[Roasted Chili Corn Salsa, [Rice, Cheese, Lettuce, Guacamole]]\t$11.25 , 35\t1\tChips\tNULL\t$2.15 , 36\t1\tBarbacoa Burrito\t[Fresh Tomato Salsa, [Rice, Pinto Beans, Cheese, Sour Cream, Lettuce]]\t$9.25 , 36\t1\tChicken Burrito\t[Fresh Tomato Salsa, [Rice, Black Beans, Cheese, Sour Cream, Lettuce]]\t$8.75 , 37\t1\tChicken Burrito\t[Tomatillo Green Chili Salsa, [Rice, Black Beans, Sour Cream, Cheese]]\t$8.75 , 37\t1\tSteak Soft Tacos\t[Tomatillo Red Chili Salsa]\t$9.25 , 38\t1\tVeggie Bowl\t[Tomatillo-Red Chili Salsa (Hot), [Pinto Beans, Black Beans, Rice, Fajita Veggies, Lettuce]]\t$8.49 , 38\t1\tSteak Bowl\t[Tomatillo-Red Chili Salsa (Hot), [Pinto Beans, Rice, Fajita Veggies, Cheese, Lettuce]]\t$8.99 , 38\t1\tBottled Water\tNULL\t$1.09 , 39\t1\tCarnitas Burrito\t[Fresh Tomato Salsa, [Rice, Pinto Beans, Sour Cream, Cheese]]\t$9.25 , 39\t1\tChips and Fresh Tomato Salsa\tNULL\t$2.95 , 40\t1\tSteak Bowl\t[Fresh Tomato Salsa, [Rice, Black Beans, Cheese, Sour Cream, Guacamole]]\t$11.75 , 40\t1\tSteak Bowl\t[Fresh Tomato Salsa, [Fajita Vegetables, Cheese, Sour Cream, Guacamole]]\t$11.75 , 40\t1\tSteak Crispy Tacos\t[Fresh Tomato Salsa, Sour Cream]\t$9.25 , 41\t1\tCarnitas Burrito\t[Roasted Chili Corn Salsa, [Sour Cream, Guacamole]]\t$11.75 , 41\t1\tChips and Guacamole\tNULL\t$4.45 , 42\t1\tBarbacoa Bowl\t[Fresh Tomato Salsa, [Fajita Vegetables, Rice, Cheese, Sour Cream]]\t$9.25 , 42\t1\tChips and Guacamole\tNULL\t$4.45 , 43\t1\tCarnitas Bowl\t[Fresh Tomato Salsa, [Fajita Vegetables, Rice, Black Beans, Cheese, Guacamole, Lettuce]]\t$11.75 , 43\t1\tChicken Burrito\t[Tomatillo Red Chili Salsa, [Rice, Black Beans, Cheese]]\t$8.75 , 44\t1\tChicken Bowl\t[Tomatillo Red Chili Salsa, [Rice, Fajita Vegetables, Sour Cream, Lettuce]]\t$8.75 , ...]\n",
       "\n",
       "[4622 rows x 0 columns]"
      ]
     },
     "execution_count": 26,
     "metadata": {},
     "output_type": "execute_result"
    }
   ],
   "source": [
    "chipo.set_index('order_id\\tquantity\\titem_name\\tchoice_description\\titem_price')"
   ]
  },
  {
   "cell_type": "markdown",
   "metadata": {},
   "source": [
    "### Step 9. Which was the most-ordered item? "
   ]
  },
  {
   "cell_type": "code",
   "execution_count": 27,
   "metadata": {},
   "outputs": [
    {
     "ename": "NameError",
     "evalue": "name 'gb' is not defined",
     "output_type": "error",
     "traceback": [
      "\u001b[1;31m---------------------------------------------------------------------------\u001b[0m",
      "\u001b[1;31mNameError\u001b[0m                                 Traceback (most recent call last)",
      "\u001b[1;32m~\\AppData\\Local\\Temp/ipykernel_14036/3698725754.py\u001b[0m in \u001b[0;36m<module>\u001b[1;34m\u001b[0m\n\u001b[1;32m----> 1\u001b[1;33m \u001b[0mchipo_top_freq\u001b[0m \u001b[1;33m=\u001b[0m \u001b[0mgb\u001b[0m\u001b[1;33m.\u001b[0m\u001b[0mapply\u001b[0m\u001b[1;33m(\u001b[0m\u001b[0mtop_value_count\u001b[0m\u001b[1;33m)\u001b[0m\u001b[1;33m.\u001b[0m\u001b[0mreset_index\u001b[0m\u001b[1;33m(\u001b[0m\u001b[1;33m)\u001b[0m\u001b[1;33m\u001b[0m\u001b[1;33m\u001b[0m\u001b[0m\n\u001b[0m",
      "\u001b[1;31mNameError\u001b[0m: name 'gb' is not defined"
     ]
    }
   ],
   "source": [
    "chipo_top_freq = gb.apply(top_value_count).reset_index()"
   ]
  },
  {
   "cell_type": "markdown",
   "metadata": {},
   "source": [
    "### Step 10. For the most-ordered item, how many items were ordered?"
   ]
  },
  {
   "cell_type": "code",
   "execution_count": null,
   "metadata": {},
   "outputs": [],
   "source": []
  },
  {
   "cell_type": "markdown",
   "metadata": {},
   "source": [
    "### Step 11. What was the most ordered item in the choice_description column?"
   ]
  },
  {
   "cell_type": "code",
   "execution_count": null,
   "metadata": {},
   "outputs": [],
   "source": []
  },
  {
   "cell_type": "markdown",
   "metadata": {},
   "source": [
    "### Step 12. How many items were orderd in total?"
   ]
  },
  {
   "cell_type": "code",
   "execution_count": null,
   "metadata": {},
   "outputs": [],
   "source": []
  },
  {
   "cell_type": "markdown",
   "metadata": {},
   "source": [
    "### Step 13. Turn the item price into a float"
   ]
  },
  {
   "cell_type": "markdown",
   "metadata": {},
   "source": [
    "#### Step 13.a. Check the item price type"
   ]
  },
  {
   "cell_type": "code",
   "execution_count": null,
   "metadata": {},
   "outputs": [],
   "source": []
  },
  {
   "cell_type": "markdown",
   "metadata": {},
   "source": [
    "#### Step 13.b. Create a lambda function and change the type of item price"
   ]
  },
  {
   "cell_type": "code",
   "execution_count": null,
   "metadata": {
    "collapsed": true
   },
   "outputs": [],
   "source": []
  },
  {
   "cell_type": "markdown",
   "metadata": {},
   "source": [
    "#### Step 13.c. Check the item price type"
   ]
  },
  {
   "cell_type": "code",
   "execution_count": null,
   "metadata": {},
   "outputs": [],
   "source": []
  },
  {
   "cell_type": "markdown",
   "metadata": {},
   "source": [
    "### Step 14. How much was the revenue for the period in the dataset?"
   ]
  },
  {
   "cell_type": "code",
   "execution_count": null,
   "metadata": {},
   "outputs": [],
   "source": []
  },
  {
   "cell_type": "markdown",
   "metadata": {},
   "source": [
    "### Step 15. How many orders were made in the period?"
   ]
  },
  {
   "cell_type": "code",
   "execution_count": null,
   "metadata": {},
   "outputs": [],
   "source": []
  },
  {
   "cell_type": "markdown",
   "metadata": {},
   "source": [
    "### Step 16. What is the average revenue amount per order?"
   ]
  },
  {
   "cell_type": "code",
   "execution_count": 3,
   "metadata": {},
   "outputs": [],
   "source": [
    "# Solution 1\n",
    "\n"
   ]
  },
  {
   "cell_type": "code",
   "execution_count": 4,
   "metadata": {},
   "outputs": [],
   "source": [
    "# Solution 2\n",
    "\n"
   ]
  },
  {
   "cell_type": "markdown",
   "metadata": {},
   "source": [
    "### Step 17. How many different items are sold?"
   ]
  },
  {
   "cell_type": "code",
   "execution_count": null,
   "metadata": {},
   "outputs": [],
   "source": []
  }
 ],
 "metadata": {
  "anaconda-cloud": {},
  "kernelspec": {
   "display_name": "Python 3 (ipykernel)",
   "language": "python",
   "name": "python3"
  },
  "language_info": {
   "codemirror_mode": {
    "name": "ipython",
    "version": 3
   },
   "file_extension": ".py",
   "mimetype": "text/x-python",
   "name": "python",
   "nbconvert_exporter": "python",
   "pygments_lexer": "ipython3",
   "version": "3.9.7"
  }
 },
 "nbformat": 4,
 "nbformat_minor": 1
}
